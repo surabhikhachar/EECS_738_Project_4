{
 "cells": [
  {
   "cell_type": "code",
   "execution_count": 1,
   "metadata": {},
   "outputs": [],
   "source": [
    "import numpy as np\n",
    "import math\n",
    "import matplotlib as mpl\n",
    "import matplotlib.pyplot as plt\n",
    "import warnings\n",
    "warnings.filterwarnings(\"ignore\") # Supress MatPlotLib Warning"
   ]
  },
  {
   "cell_type": "code",
   "execution_count": 2,
   "metadata": {},
   "outputs": [],
   "source": [
    "NORMAL = -0.25\n",
    "TREASURE = 5\n",
    "OBSTICLE = 0\n",
    "OPPONENT = -5"
   ]
  },
  {
   "cell_type": "markdown",
   "metadata": {},
   "source": [
    "These are the ground type reward amounts.\n",
    "\n",
    "They can be seen as simulating a real-life scenario.\n",
    "\n",
    "Normal ground is set to -0.25. This can be seen as like a gas/resource cost to traverse each space. This is set to a negative value to motivate shorter paths as gas isn't free.\n",
    "\n",
    "The value for an Obsticle does not matter as that block type will never be crossed over.\n",
    "\n",
    "Opponents can be seen as simulating a bandit who will take 5 points away from you if you go through them, and each treasure found will add 5 to the total rewards."
   ]
  },
  {
   "cell_type": "code",
   "execution_count": 3,
   "metadata": {},
   "outputs": [],
   "source": [
    "def printMap(M, path=None):\n",
    "    cmap = mpl.colors.ListedColormap(['blue', 'saddlebrown', 'gold','forestgreen'])\n",
    "    M_copy = np.copy(M)\n",
    "\n",
    "    '''\n",
    "    Scaling the Map for colormesh\n",
    "    '''\n",
    "    \n",
    "    minimum = int(np.amin(M))-1\n",
    "    M_copy[abs(M_copy - NORMAL) < .01]   = minimum-1\n",
    "    M_copy[abs(M_copy - TREASURE) < .01] = minimum-2\n",
    "    M_copy[abs(M_copy - OBSTICLE) < .01] = minimum-3\n",
    "    M_copy[abs(M_copy - OPPONENT) < .01] = minimum-4\n",
    "\n",
    "    M_copy[M_copy is minimum-1] = 0\n",
    "    M_copy[M_copy is minimum-2] = 1\n",
    "    M_copy[M_copy is minimum-3] = 2\n",
    "    M_copy[M_copy is minimum-4] = 3\n",
    "    \n",
    "\n",
    "    plt.pcolormesh(M_copy, cmap=cmap)\n",
    "\n",
    "    green_patch = mpl.patches.Patch(color='forestgreen', label='Normal Ground')\n",
    "    gold_patch = mpl.patches.Patch(color='gold', label='Treasure')\n",
    "    brown_patch = mpl.patches.Patch(color='saddlebrown', label='Obsticle')\n",
    "    blue_patch = mpl.patches.Patch(color='blue', label='Opponent')\n",
    "    handles = [green_patch, gold_patch, brown_patch, blue_patch]\n",
    "    plt.subplots_adjust(right=0.7)\n",
    "    if path is not None:\n",
    "        plt.plot(*path.T, color='red')\n",
    "        red_patch = mpl.patches.Patch(color='red', label='Path')\n",
    "        handles.append(red_patch)\n",
    "    plt.legend(handles=handles ,loc='upper left', bbox_to_anchor=(1.04,1), borderaxespad=0)\n",
    "    plt.axes().set_aspect('equal') #set the x and y axes to the same scale\n",
    "    plt.xticks(np.arange(0, len(M), 1)) # remove the tick marks by setting to an empty list\n",
    "    plt.yticks(np.arange(0, len(M[0]), 1)) # remove the tick marks by setting to an empty list\n",
    "    plt.grid()\n",
    "    plt.axes().invert_yaxis() #invert the y-axis so the first row of data is at the top"
   ]
  },
  {
   "cell_type": "code",
   "execution_count": 4,
   "metadata": {},
   "outputs": [
    {
     "data": {
      "text/plain": [
       "'\\nMap Constants\\n'"
      ]
     },
     "execution_count": 4,
     "metadata": {},
     "output_type": "execute_result"
    }
   ],
   "source": [
    "height = 15\n",
    "width = 15\n",
    "'''\n",
    "Map Constants\n",
    "'''"
   ]
  },
  {
   "cell_type": "code",
   "execution_count": 5,
   "metadata": {},
   "outputs": [],
   "source": [
    "M = np.full((width,height), NORMAL)\n",
    "shape = M.shape\n",
    "M = M.flatten()\n",
    "np.random.seed(2)\n",
    "treasureIndecies = np.random.choice(M.size, size=20)\n",
    "M[treasureIndecies] = TREASURE\n",
    "M = M.reshape(shape)\n",
    "\n",
    "M[1][0] = TREASURE; M[2][1] = TREASURE; M[3][2] = TREASURE; M[4][3] = TREASURE\n",
    "\n",
    "M[5,1] = OBSTICLE; M[6,1] = OBSTICLE; M[7,1] = OBSTICLE; M[8,1] = OBSTICLE\n",
    "M[11,1] = OBSTICLE; M[12,1] = OBSTICLE; M[13,1] = OBSTICLE; M[14,1] = OBSTICLE\n",
    "M[11,2] = OBSTICLE; M[11,3] = OBSTICLE; M[11,4] = OBSTICLE; M[11,5] = OBSTICLE\n",
    "\n",
    "M[10,4] = OPPONENT; M[4,3] = OPPONENT; M[5,10] = OPPONENT; M[14,4] = OPPONENT\n",
    "\n",
    "M[0,0] = NORMAL\n",
    "M[14,14] = TREASURE"
   ]
  },
  {
   "cell_type": "code",
   "execution_count": 6,
   "metadata": {},
   "outputs": [
    {
     "data": {
      "image/png": "[encoded data removed]",
      "text/plain": [
       "<Figure size 432x288 with 1 Axes>"
      ]
     },
     "metadata": {
      "needs_background": "light"
     },
     "output_type": "display_data"
    }
   ],
   "source": [
    "printMap(M)"
   ]
  },
  {
   "cell_type": "markdown",
   "metadata": {},
   "source": [
    "This is an arbiturary first map we have made for testing the reinforcement learning"
   ]
  },
  {
   "cell_type": "code",
   "execution_count": 7,
   "metadata": {},
   "outputs": [],
   "source": [
    "def move_state(state, move):\n",
    "    '''\n",
    "    This is defining the 4 different types of moves one can do from each state.\n",
    "    \n",
    "    The reason we do not define a stopping move is that the agent will automatically\n",
    "    halt when reaching the destination block\n",
    "    \n",
    "    Not all of these are valid however as either it will loop you around the map or enter you into a obsticle.\n",
    "    '''\n",
    "    if move == 0:   # North\n",
    "        return state - width\n",
    "    elif move == 1: # East\n",
    "        return state + 1\n",
    "    elif move == 2: # South\n",
    "        return state + width\n",
    "    elif move == 3: # West\n",
    "        return state - 1\n",
    "    else:\n",
    "        raise Exception"
   ]
  },
  {
   "cell_type": "code",
   "execution_count": 8,
   "metadata": {},
   "outputs": [],
   "source": [
    "def get_poss_moves(s, M):\n",
    "    '''\n",
    "    Returns the possible moves from any arbiturary state\n",
    "    '''\n",
    "    poss_moves = []\n",
    "    valid_moves = []\n",
    "    x, y = stateToXY(s)\n",
    "    if y > 0:\n",
    "        valid_moves.append(0)\n",
    "    if x < len(M[0]) - 1:\n",
    "        valid_moves.append(1)\n",
    "    if y < len(M) - 1:\n",
    "        valid_moves.append(2)\n",
    "    if x > 0:\n",
    "        valid_moves.append(3)\n",
    "    for move in valid_moves:\n",
    "            poss_state = move_state(s,move)\n",
    "            x,y = stateToXY(poss_state)\n",
    "            if M[y][x] != OBSTICLE: poss_moves.append(move)\n",
    "    return poss_moves\n",
    "def get_best_next_move(s, M, Q):\n",
    "    '''\n",
    "    Gets the optimal move based on the Q matrix\n",
    "    '''\n",
    "    poss_next_moves = get_poss_moves(s, M)\n",
    "    if len(poss_next_moves) == 0:\n",
    "            return None\n",
    "    max_m = poss_next_moves[0]\n",
    "    max_q = Q[s][max_m]\n",
    "\n",
    "    for move in poss_next_moves[1::]:\n",
    "        if(Q[s][move] > max_q):\n",
    "            max_q, max_m = Q[s][move], move\n",
    "    return max_m\n",
    "\n",
    "def get_rnd_next_move(s, M, Q):\n",
    "    '''\n",
    "    Gets the next move for either exploring or exploiting\n",
    "    '''\n",
    "    poss_next_moves = get_poss_moves(s, M)\n",
    "    if len(poss_next_moves) == 0:\n",
    "            return None\n",
    "    if np.random.rand() <= exploitation_probability:\n",
    "        return get_best_next_move(s, M, Q)\n",
    "    else:\n",
    "        next_move = \\\n",
    "            poss_next_moves[np.random.randint(0,\\\n",
    "            len(poss_next_moves))]\n",
    "        return next_move"
   ]
  },
  {
   "cell_type": "code",
   "execution_count": 9,
   "metadata": {},
   "outputs": [],
   "source": [
    "'''\n",
    "State to position conversions\n",
    "'''\n",
    "def stateToXY(s):\n",
    "    return s % width, s // width\n",
    "def XYToState(x,y):\n",
    "    return y*width+x"
   ]
  },
  {
   "cell_type": "code",
   "execution_count": 10,
   "metadata": {},
   "outputs": [],
   "source": [
    "def train(M, Q, gamma, lrn_rate, goal, ns, max_epochs, startingState, max_steps):\n",
    "    for _ in range(0,max_epochs):\n",
    "        M_copy = np.copy(M)\n",
    "        curr_s = 0\n",
    "        steps = 0\n",
    "        x,y = stateToXY(curr_s)\n",
    "        points = M_copy[y][x]\n",
    "        M_copy[y][x] = OBSTICLE # Converts the path previously walked on to disalow backtracking\n",
    "        while(True):\n",
    "            next_m = get_rnd_next_move(curr_s, M_copy, Q)\n",
    "            if next_m is None:\n",
    "                break\n",
    "            next_s = move_state(curr_s,next_m)\n",
    "            x,y = stateToXY(next_s)\n",
    "            next_r = M_copy[y][x]\n",
    "            points += next_r\n",
    "\n",
    "            M_copy[y][x] = OBSTICLE\n",
    "\n",
    "            bestnextnextMove = get_best_next_move(next_s, M_copy, Q)\n",
    "            max_Q = -1\n",
    "            if bestnextnextMove is not None:\n",
    "                max_Q = Q[next_s][bestnextnextMove]\n",
    "                \n",
    "            Q[curr_s][next_m] = Q[curr_s][next_m] + (lrn_rate) * \\\n",
    "                                                    ( next_r + (gamma * max_Q) - Q[curr_s][next_m] )\n",
    "            #Q matrix update based on the formula from class\n",
    "            \n",
    "            curr_s = next_s\n",
    "            steps += 1\n",
    "            if curr_s == goal: break\n",
    "            if steps == max_steps: break # Max steps specified to quicken algorithm from excessively long paths. Less neccessary when backtracking is disallowed"
   ]
  },
  {
   "cell_type": "code",
   "execution_count": 11,
   "metadata": {},
   "outputs": [],
   "source": [
    "def walk(start, goal, Q, M, max_steps):\n",
    "    '''\n",
    "    Returning a path based on the best move from the highest values in the Q matrix\n",
    "    '''\n",
    "    M_copy = np.copy(M)\n",
    "    \n",
    "    steps = 1\n",
    "    curr = start\n",
    "    curr_x, curr_y = stateToXY(curr)\n",
    "    points = M_copy[curr_y][curr_x]\n",
    "    M_copy[curr_y][curr_x] = OBSTICLE\n",
    "    print(str((curr_x,curr_y)), end=\"\")\n",
    "    path = [[.5,.5]]\n",
    "    while curr != goal and steps < max_steps:\n",
    "        next_m = get_best_next_move(curr, M_copy, Q)\n",
    "        if next_m is None:\n",
    "            break\n",
    "        next = move_state(curr,next_m)\n",
    "        curr_x, curr_y = stateToXY(curr)\n",
    "        x, y = stateToXY(next)\n",
    "        path.append([x+.5,y+.5])\n",
    "        print(\"->\" + str((x,y)), end=\"\")\n",
    "        points += M_copy[y,x]\n",
    "        M_copy[y][x] = OBSTICLE\n",
    "\n",
    "        curr = next\n",
    "        steps += 1\n",
    "        \n",
    "    return np.array(path),points"
   ]
  },
  {
   "cell_type": "code",
   "execution_count": 12,
   "metadata": {},
   "outputs": [],
   "source": [
    "start_state = 0\n",
    "state_count = M.size\n",
    "final_state = state_count - 1\n",
    "move_options = 4\n",
    "gamma = .5\n",
    "lrn_rate = .2\n",
    "max_epochs = 1000\n",
    "max_steps = 100\n",
    "exploitation_probability = .8"
   ]
  },
  {
   "cell_type": "markdown",
   "metadata": {},
   "source": [
    "Parameters chosen based on some parameter tweaking to optimise for speed of training and optimality of path"
   ]
  },
  {
   "cell_type": "code",
   "execution_count": 13,
   "metadata": {},
   "outputs": [],
   "source": [
    "Q = np.zeros(shape=[state_count,move_options], dtype=np.float32)  # Quality\n",
    "train(M, Q, gamma, lrn_rate, final_state, state_count, max_epochs, 0, max_steps)"
   ]
  },
  {
   "cell_type": "code",
   "execution_count": 14,
   "metadata": {},
   "outputs": [
    {
     "name": "stdout",
     "output_type": "stream",
     "text": [
      "Path from (0, 0) to (14, 14)\n",
      "(0, 0)->(0, 1)->(0, 2)->(1, 2)->(2, 2)->(2, 3)->(1, 3)->(0, 3)->(0, 4)->(0, 5)->(0, 6)->(0, 7)->(0, 8)->(0, 9)->(1, 9)->(2, 9)->(2, 8)->(3, 8)->(4, 8)->(4, 7)->(4, 6)->(5, 6)->(6, 6)->(7, 6)->(7, 5)->(7, 4)->(7, 3)->(7, 2)->(7, 1)->(7, 0)->(8, 0)->(8, 1)->(8, 2)->(9, 2)->(10, 2)->(11, 2)->(12, 2)->(13, 2)->(13, 3)->(12, 3)->(12, 4)->(13, 4)->(14, 4)->(14, 5)->(14, 6)->(14, 7)->(13, 7)->(13, 8)->(13, 9)->(13, 10)->(12, 10)->(12, 11)->(13, 11)->(14, 11)->(14, 12)->(14, 13)->(14, 14)"
     ]
    }
   ],
   "source": [
    "print(\"Path from\", stateToXY(start_state), \"to\", stateToXY(final_state))\n",
    "path,points = walk(start_state, final_state, Q, M, max_steps)"
   ]
  },
  {
   "cell_type": "code",
   "execution_count": 15,
   "metadata": {},
   "outputs": [
    {
     "name": "stdout",
     "output_type": "stream",
     "text": [
      "Total rewards for path is: 64.5\n"
     ]
    },
    {
     "data": {
      "image/png": "[encoded data removed]",
      "text/plain": [
       "<Figure size 432x288 with 1 Axes>"
      ]
     },
     "metadata": {
      "needs_background": "light"
     },
     "output_type": "display_data"
    }
   ],
   "source": [
    "printMap(M,path)\n",
    "print(\"Total rewards for path is:\", points)"
   ]
  },
  {
   "cell_type": "markdown",
   "metadata": {},
   "source": [
    "That's the algorithm in action!\n",
    "Overall, we are very impressed by the results.\n",
    "\n",
    "Q-Learning is very simple to understand and it has achieved great results.\n",
    "\n",
    "We can see that this is not the most optimal path. From the treasure at (12,11), the path getting the treasure at (8,14) before going to the end of the path would increase the total path length by 8 which would cost 2, but the added treasure would increase rewards by 5 increasing the total reward to 67.5.\n",
    "\n",
    "Overall, thus path being above 95% optimal is fantastic for how efficient Q-Learning is."
   ]
  },
  {
   "cell_type": "markdown",
   "metadata": {},
   "source": [
    "Lets re-train over the same map and see if we get the same results."
   ]
  },
  {
   "cell_type": "code",
   "execution_count": 16,
   "metadata": {},
   "outputs": [
    {
     "name": "stdout",
     "output_type": "stream",
     "text": [
      "Path from (0, 0) to (14, 14)\n",
      "(0, 0)->(0, 1)->(0, 2)->(1, 2)->(2, 2)->(2, 3)->(1, 3)->(0, 3)->(0, 4)->(0, 5)->(0, 6)->(0, 7)->(0, 8)->(0, 9)->(1, 9)->(2, 9)->(3, 9)->(3, 8)->(4, 8)->(4, 7)->(4, 6)->(5, 6)->(6, 6)->(7, 6)->(7, 5)->(7, 4)->(7, 3)->(7, 2)->(7, 1)->(7, 0)->(8, 0)->(8, 1)->(8, 2)->(9, 2)->(10, 2)->(10, 3)->(10, 4)->(11, 4)->(12, 4)->(12, 3)->(13, 3)->(13, 2)->(14, 2)->(14, 3)->(14, 4)->(14, 5)->(14, 6)->(14, 7)->(13, 7)->(13, 8)->(13, 9)->(13, 10)->(12, 10)->(12, 11)->(13, 11)->(13, 12)->(14, 12)->(14, 13)->(14, 14)\n",
      "Total rewards for path is: 64.0\n"
     ]
    },
    {
     "data": {
      "image/png": "[encoded data removed]",
      "text/plain": [
       "<Figure size 432x288 with 1 Axes>"
      ]
     },
     "metadata": {
      "needs_background": "light"
     },
     "output_type": "display_data"
    }
   ],
   "source": [
    "Q = np.zeros(shape=[state_count,move_options], dtype=np.float32)\n",
    "train(M, Q, gamma, lrn_rate, final_state, state_count, max_epochs, 0, max_steps)\n",
    "print(\"Path from\", stateToXY(start_state), \"to\", stateToXY(final_state))\n",
    "path,points = walk(start_state, final_state, Q, M, max_steps)\n",
    "printMap(M,path)\n",
    "print(\"\\nTotal rewards for path is:\", points)"
   ]
  },
  {
   "cell_type": "markdown",
   "metadata": {},
   "source": [
    "This training achieved a path that was slightly less optimal than prior. We can see that it takes a slightly different path to get to the same peices of treaure that the prior run gave. Overall though it a decrease in total rewards by less than 1%.\n",
    "\n",
    "We might be able to adjust our parameters to acheive a more optimal path more often, but I am happy with how quickly these parameters run with training.\n",
    "\n",
    "Lets try this on another map"
   ]
  },
  {
   "cell_type": "code",
   "execution_count": 17,
   "metadata": {},
   "outputs": [],
   "source": [
    "M = np.full((width,height), NORMAL)\n",
    "shape = M.shape\n",
    "M = M.flatten()\n",
    "treasureIndecies = np.random.choice(M.size, size=15)\n",
    "obsticleIndecies = np.random.choice(M.size, size=20)\n",
    "opponentIndecies = np.random.choice(M.size, size=5)\n",
    "\n",
    "M[treasureIndecies] = TREASURE\n",
    "M[obsticleIndecies] = OBSTICLE\n",
    "M[opponentIndecies] = OPPONENT\n",
    "\n",
    "M = M.reshape(shape)\n",
    "\n",
    "M[0,0] = NORMAL\n",
    "M[14,14] = TREASURE"
   ]
  },
  {
   "cell_type": "code",
   "execution_count": 18,
   "metadata": {},
   "outputs": [
    {
     "data": {
      "image/png": "[encoded data removed]",
      "text/plain": [
       "<Figure size 432x288 with 1 Axes>"
      ]
     },
     "metadata": {
      "needs_background": "light"
     },
     "output_type": "display_data"
    }
   ],
   "source": [
    "printMap(M)"
   ]
  },
  {
   "cell_type": "code",
   "execution_count": 19,
   "metadata": {},
   "outputs": [
    {
     "name": "stdout",
     "output_type": "stream",
     "text": [
      "Path from (0, 0) to (14, 14)\n",
      "(0, 0)->(0, 1)->(0, 2)->(0, 3)->(0, 4)->(0, 5)->(1, 5)->(2, 5)->(2, 6)->(2, 7)->(2, 8)->(2, 9)->(2, 10)->(2, 11)->(3, 11)->(4, 11)->(4, 10)->(5, 10)->(5, 9)->(5, 8)->(6, 8)->(6, 7)->(6, 6)->(6, 5)->(7, 5)->(8, 5)->(8, 6)->(9, 6)->(9, 7)->(9, 8)->(9, 9)->(9, 10)->(10, 10)->(10, 11)->(11, 11)->(11, 12)->(11, 13)->(12, 13)->(13, 13)->(14, 13)->(14, 14)\n",
      "Total rewards for path is: 42.25\n"
     ]
    },
    {
     "data": {
      "image/png": "[encoded data removed]",
      "text/plain": [
       "<Figure size 432x288 with 1 Axes>"
      ]
     },
     "metadata": {
      "needs_background": "light"
     },
     "output_type": "display_data"
    }
   ],
   "source": [
    "Q = np.zeros(shape=[state_count,move_options], dtype=np.float32)\n",
    "train(M, Q, gamma, lrn_rate, final_state, state_count, max_epochs, 0, max_steps)\n",
    "print(\"Path from\", stateToXY(start_state), \"to\", stateToXY(final_state))\n",
    "path,points = walk(start_state, final_state, Q, M, max_steps)\n",
    "printMap(M,path)\n",
    "print(\"\\nTotal rewards for path is:\", points)"
   ]
  },
  {
   "cell_type": "markdown",
   "metadata": {},
   "source": [
    "This path is pretty good as well!\n",
    "It is not optimal as the treasure at (0,12) can be traversed to in 6 additional steps and increase the total rewards by 3.5. This would put the optimal path rewards at 45.75.\n",
    "\n",
    "Our path is 92% optimal.\n",
    "\n",
    "Pretty good as well"
   ]
  },
  {
   "cell_type": "markdown",
   "metadata": {},
   "source": [
    "This assignment was extremely insightful to us in "
   ]
  }
 ],
 "metadata": {
  "kernelspec": {
   "display_name": "Python 3",
   "language": "python",
   "name": "python3"
  },
  "language_info": {
   "codemirror_mode": {
    "name": "ipython",
    "version": 3
   },
   "file_extension": ".py",
   "mimetype": "text/x-python",
   "name": "python",
   "nbconvert_exporter": "python",
   "pygments_lexer": "ipython3",
   "version": "3.7.3"
  }
 },
 "nbformat": 4,
 "nbformat_minor": 2
}
