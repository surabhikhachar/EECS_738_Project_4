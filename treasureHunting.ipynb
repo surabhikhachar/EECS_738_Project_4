{
 "cells": [
  {
   "cell_type": "code",
   "execution_count": 1,
   "metadata": {},
   "outputs": [],
   "source": [
    "import numpy as np\n",
    "import math\n",
    "import matplotlib as mpl\n",
    "import matplotlib.pyplot as plt\n",
    "import warnings\n",
    "warnings.filterwarnings(\"ignore\")"
   ]
  },
  {
   "cell_type": "code",
   "execution_count": 2,
   "metadata": {},
   "outputs": [],
   "source": [
    "NORMAL = -.1\n",
    "TREASURE = 2\n",
    "OBSTICLE = .5\n",
    "OPPONENT = -2"
   ]
  },
  {
   "cell_type": "code",
   "execution_count": 3,
   "metadata": {},
   "outputs": [],
   "source": [
    "height = 15\n",
    "width = 15\n",
    "\n",
    "M = np.full((width,height), NORMAL)\n",
    "shape = M.shape\n",
    "M = M.flatten()\n",
    "np.random.seed(5)\n",
    "treasureIndecies = np.random.choice(M.size, size=15)\n",
    "M[treasureIndecies] = TREASURE\n",
    "M = M.reshape(shape)\n",
    "\n",
    "M[1][0] = TREASURE; M[2][1] = TREASURE; M[3][2] = TREASURE; M[4][3] = TREASURE\n",
    "\n",
    "M[5,1] = OBSTICLE; M[6,1] = OBSTICLE; M[7,1] = OBSTICLE; M[8,1] = OBSTICLE\n",
    "M[11,1] = OBSTICLE; M[12,1] = OBSTICLE; M[13,1] = OBSTICLE; M[14,1] = OBSTICLE\n",
    "M[11,2] = OBSTICLE; M[11,3] = OBSTICLE; M[11,4] = OBSTICLE; M[11,5] = OBSTICLE\n",
    "\n",
    "M[10,4] = OPPONENT; M[4,3] = OPPONENT; M[5,10] = OPPONENT; M[14,4] = OPPONENT\n",
    "\n",
    "M[0,0] = NORMAL\n",
    "M[14,14] = TREASURE"
   ]
  },
  {
   "cell_type": "code",
   "execution_count": 4,
   "metadata": {},
   "outputs": [],
   "source": [
    "start_state = 0\n",
    "state_count = M.size\n",
    "final_state = state_count - 1\n",
    "move_options = 4\n",
    "exploitation_probability = .8"
   ]
  },
  {
   "cell_type": "code",
   "execution_count": 5,
   "metadata": {},
   "outputs": [],
   "source": [
    "Q = np.zeros(shape=[state_count,move_options], dtype=np.float32)  # Quality"
   ]
  },
  {
   "cell_type": "code",
   "execution_count": 6,
   "metadata": {},
   "outputs": [],
   "source": [
    "gamma = .5\n",
    "lrn_rate = .2\n",
    "max_epochs = 5000\n",
    "max_steps = 100"
   ]
  },
  {
   "cell_type": "code",
   "execution_count": 7,
   "metadata": {},
   "outputs": [],
   "source": [
    "def move_state(state, move):\n",
    "    if move == 0:   # North\n",
    "        return state - width\n",
    "    elif move == 1: # East\n",
    "        return state + 1\n",
    "    elif move == 2: # South\n",
    "        return state + width\n",
    "    elif move == 3: # West\n",
    "        return state - 1\n",
    "    else:\n",
    "        raise Exception"
   ]
  },
  {
   "cell_type": "code",
   "execution_count": 8,
   "metadata": {},
   "outputs": [],
   "source": [
    "def get_poss_moves(s, M):\n",
    "    poss_moves = []\n",
    "    valid_moves = []\n",
    "    x, y = stateToXY(s)\n",
    "    if y > 0:\n",
    "        valid_moves.append(0)\n",
    "    if x < len(M[0]) - 1:\n",
    "        valid_moves.append(1)\n",
    "    if y < len(M) - 1:\n",
    "        valid_moves.append(2)\n",
    "    if x > 0:\n",
    "        valid_moves.append(3)\n",
    "    for move in valid_moves:\n",
    "            poss_state = move_state(s,move)\n",
    "            x,y = stateToXY(poss_state)\n",
    "            if M[y][x] != OBSTICLE: poss_moves.append(move)\n",
    "    return poss_moves\n",
    "def get_best_next_move(s, M, Q):\n",
    "    poss_next_moves = get_poss_moves(s, M)\n",
    "    if len(poss_next_moves) == 0:\n",
    "            return None\n",
    "    max_m = poss_next_moves[0]\n",
    "    max_q = Q[s][max_m]\n",
    "\n",
    "    for move in poss_next_moves[1::]:\n",
    "        if(Q[s][move] > max_q):\n",
    "            max_q, max_m = Q[s][move], move\n",
    "    return max_m\n",
    "\n",
    "def get_rnd_next_move(s, M, Q):\n",
    "    poss_next_moves = get_poss_moves(s, M)\n",
    "    if len(poss_next_moves) == 0:\n",
    "            return None\n",
    "    if np.random.rand() <= exploitation_probability:\n",
    "        return get_best_next_move(s, M, Q)\n",
    "    else:\n",
    "        next_move = \\\n",
    "            poss_next_moves[np.random.randint(0,\\\n",
    "            len(poss_next_moves))]\n",
    "        return next_move"
   ]
  },
  {
   "cell_type": "code",
   "execution_count": 9,
   "metadata": {},
   "outputs": [],
   "source": [
    "def stateToXY(s):\n",
    "    return s % width, s // width\n",
    "def XYToState(x,y):\n",
    "    return y*width+x"
   ]
  },
  {
   "cell_type": "code",
   "execution_count": 10,
   "metadata": {},
   "outputs": [],
   "source": [
    "def train(M, Q, gamma, lrn_rate, goal, ns, max_epochs, startingState, max_steps):\n",
    "    for _ in range(0,max_epochs):\n",
    "        M_copy = np.copy(M)\n",
    "        curr_s = 0\n",
    "        steps = 0\n",
    "        x,y = stateToXY(curr_s)\n",
    "        points = M_copy[y][x]\n",
    "        M_copy[y][x] = OBSTICLE\n",
    "        while(True):\n",
    "            next_m = get_rnd_next_move(curr_s, M_copy, Q)\n",
    "            if next_m is None:\n",
    "                break\n",
    "            next_s = move_state(curr_s,next_m)\n",
    "            x,y = stateToXY(next_s)\n",
    "            next_r = M_copy[y][x]\n",
    "            points += next_r\n",
    "\n",
    "            M_copy[y][x] = OBSTICLE\n",
    "\n",
    "            bestnextnextMove = get_best_next_move(next_s, M_copy, Q)\n",
    "            max_Q = -1\n",
    "            if bestnextnextMove is not None:\n",
    "                max_Q = Q[next_s][bestnextnextMove]\n",
    "                \n",
    "            Q[curr_s][next_m] = Q[curr_s][next_m] + (lrn_rate) * \\\n",
    "                                                    ( next_r + (gamma * max_Q) - Q[curr_s][next_m] )\n",
    "            curr_s = next_s\n",
    "            steps += 1\n",
    "            if curr_s == goal: break\n",
    "            if steps == max_steps: break"
   ]
  },
  {
   "cell_type": "code",
   "execution_count": 11,
   "metadata": {},
   "outputs": [
    {
     "name": "stdout",
     "output_type": "stream",
     "text": [
      "Path from (0, 0) to (14, 14)\n",
      "(0, 0)->(0, 1)->(0, 2)->(1, 2)->(1, 3)->(2, 3)->(2, 2)->(2, 1)->(2, 0)->(3, 0)->(4, 0)->(5, 0)->(6, 0)->(7, 0)->(8, 0)->(9, 0)->(9, 1)->(9, 2)->(9, 3)->(9, 4)->(9, 5)->(9, 6)->(9, 7)->(9, 8)->(9, 9)->(8, 9)->(8, 10)->(9, 10)->(9, 11)->(9, 12)->(9, 13)->(10, 13)->(10, 12)->(11, 12)->(11, 13)->(12, 13)->(13, 13)->(13, 14)->(14, 14)"
     ]
    },
    {
     "data": {
      "image/png": "[encoded data removed]",
      "text/plain": [
       "<Figure size 432x288 with 1 Axes>"
      ]
     },
     "metadata": {
      "needs_background": "light"
     },
     "output_type": "display_data"
    }
   ],
   "source": [
    "def walk(start, goal, Q, M, max_steps):\n",
    "    M_copy = np.copy(M)\n",
    "\n",
    "    cmap = mpl.colors.ListedColormap(['forestgreen', 'gold', 'saddlebrown', 'blue'])\n",
    "\n",
    "    M[abs(M - NORMAL) < .01] = -10\n",
    "    M[abs(M - TREASURE) < .01] = -9\n",
    "    M[abs(M - OBSTICLE) < .01] = -8\n",
    "    M[abs(M - OPPONENT) < .01] = -7\n",
    "\n",
    "    M[M is -10] = 0\n",
    "    M[M is -9] = 1\n",
    "    M[M is -8] = 2\n",
    "    M[M is -7] = 3\n",
    "\n",
    "    plt.pcolormesh(M, cmap=cmap)\n",
    "\n",
    "    green_patch = mpl.patches.Patch(color='forestgreen', label='Normal Ground')\n",
    "    gold_patch = mpl.patches.Patch(color='gold', label='Treasure')\n",
    "    brown_patch = mpl.patches.Patch(color='saddlebrown', label='Obsticle')\n",
    "    blue_patch = mpl.patches.Patch(color='blue', label='Opponent')\n",
    "    red_patch = mpl.patches.Patch(color='red', label='Path')\n",
    "    plt.subplots_adjust(right=0.7)\n",
    "    plt.legend(handles=[green_patch, gold_patch, brown_patch, blue_patch, red_patch] ,loc='upper left', bbox_to_anchor=(1.04,1), borderaxespad=0)\n",
    "\n",
    "\n",
    "    steps = 1\n",
    "    curr = start\n",
    "    curr_x, curr_y = stateToXY(curr)\n",
    "    points = M_copy[curr_y][curr_x]\n",
    "    M_copy[curr_y][curr_x] = OBSTICLE\n",
    "    print(str((curr_x,curr_y)), end=\"\")\n",
    "    path = [[.5,.5]]\n",
    "    while curr != goal and steps < max_steps:\n",
    "        next_m = get_best_next_move(curr, M_copy, Q)\n",
    "        if next_m is None:\n",
    "            break\n",
    "        next = move_state(curr,next_m)\n",
    "        curr_x, curr_y = stateToXY(curr)\n",
    "        x, y = stateToXY(next)\n",
    "        path.append([x+.5,y+.5])\n",
    "        # print(next)\n",
    "        print(\"->\" + str((x,y)), end=\"\")\n",
    "        points += M_copy[y,x]\n",
    "        M_copy[y][x] = OBSTICLE\n",
    "\n",
    "        curr = next\n",
    "        steps += 1\n",
    "        \n",
    "    data = np.array(path)\n",
    "    plt.plot(*data.T, color='red')\n",
    "\n",
    "    plt.axes().set_aspect('equal') #set the x and y axes to the same scale\n",
    "    plt.xticks(np.arange(0, len(M), 1)) # remove the tick marks by setting to an empty list\n",
    "    plt.yticks(np.arange(0, len(M[0]), 1)) # remove the tick marks by setting to an empty list\n",
    "    plt.grid()\n",
    "    plt.axes().invert_yaxis() #invert the y-axis so the first row of data is at the top\n",
    "\n",
    "    plt.show()\n",
    "\n",
    "    \n",
    "train(M, Q, gamma, lrn_rate, final_state, state_count, max_epochs, 0, max_steps)\n",
    "\n",
    "\n",
    "print(\"Path from\", stateToXY(start_state), \"to\", stateToXY(final_state))\n",
    "walk(start_state, final_state, Q, M, max_steps)"
   ]
  }
 ],
 "metadata": {
  "kernelspec": {
   "display_name": "Python 3",
   "language": "python",
   "name": "python3"
  },
  "language_info": {
   "codemirror_mode": {
    "name": "ipython",
    "version": 3
   },
   "file_extension": ".py",
   "mimetype": "text/x-python",
   "name": "python",
   "nbconvert_exporter": "python",
   "pygments_lexer": "ipython3",
   "version": "3.7.3"
  }
 },
 "nbformat": 4,
 "nbformat_minor": 2
}
